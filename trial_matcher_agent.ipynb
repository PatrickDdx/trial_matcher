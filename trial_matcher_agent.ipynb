{
 "cells": [
  {
   "cell_type": "markdown",
   "id": "6a7fe9e7",
   "metadata": {},
   "source": [
    "Clinical Trial Matchmaker Agent"
   ]
  },
  {
   "cell_type": "code",
   "execution_count": 1,
   "id": "8698ee02",
   "metadata": {},
   "outputs": [],
   "source": [
    "from agents import Agent, WebSearchTool, trace, Runner, gen_trace_id, function_tool\n",
    "from agents.model_settings import ModelSettings\n",
    "from pydantic import BaseModel, Field\n",
    "from dotenv import load_dotenv\n",
    "import asyncio\n",
    "import sendgrid\n",
    "import os\n",
    "from sendgrid.helpers.mail import Mail, Email, To, Content\n",
    "from typing import Dict\n",
    "from IPython.display import display, Markdown"
   ]
  },
  {
   "cell_type": "code",
   "execution_count": 2,
   "id": "dd912973",
   "metadata": {},
   "outputs": [],
   "source": [
    "import requests\n",
    "import json"
   ]
  },
  {
   "cell_type": "code",
   "execution_count": 3,
   "id": "65be4351",
   "metadata": {},
   "outputs": [
    {
     "data": {
      "text/plain": [
       "True"
      ]
     },
     "execution_count": 3,
     "metadata": {},
     "output_type": "execute_result"
    }
   ],
   "source": [
    "load_dotenv(override=True)"
   ]
  },
  {
   "cell_type": "code",
   "execution_count": null,
   "id": "28318b03",
   "metadata": {},
   "outputs": [],
   "source": [
    "# Goal: To match a patient's medical profile with a list of active clinical trials they may be eligible for."
   ]
  },
  {
   "cell_type": "code",
   "execution_count": null,
   "id": "c5ccf4ad",
   "metadata": {},
   "outputs": [],
   "source": [
    "# Agent 1 (Intake Agent): This agent interacts with the user (patient or doctor) to gather key information, such as disease name, stage, current treatments, and location."
   ]
  },
  {
   "cell_type": "code",
   "execution_count": 14,
   "id": "31d2ef84",
   "metadata": {},
   "outputs": [],
   "source": [
    "class KeyFacts(BaseModel):\n",
    "    condition: str = Field(description=\"Conditions or disease the person has (for example, breast cancer or high blood pressure).\")\n",
    "    intervention: str = Field(description=\"Intervention / Treatment (for example, radiation therapy or low fat diet).\")\n",
    "    age: int = Field(description=\"Age of the person in years.\")\n",
    "    gender: str = Field(description=\"Gender of the person (MALE or FEMALE).\")\n",
    "    location: str = Field(description=\"The location where the trial should be (search by address, city, state, or country).\")\n",
    "\n",
    "\n",
    "INSTRUCTIONS = \"\"\"You are a medical assistant. Given a free text, you extract the key facts and fill them into the schema.\n",
    "Return a json only - no explanations, no comments. The schema: condition, intervention, age, gender, location.\n",
    "The output will be used to search clinicaltrials.gov via their API. \n",
    "Use Boolean operators (AND / OR / NOT) and Grouping operators ( () ) if necessary.\n",
    "The location must be an address, city, state, or country.\n",
    "The output must be in English, regardless of the input language.\"\"\" \n",
    "\n",
    "search_planner = Agent(\n",
    "    name=\"Query builder helper\",\n",
    "    instructions=INSTRUCTIONS,\n",
    "    model=\"gpt-4o-mini\",\n",
    "    output_type=KeyFacts\n",
    ")\n"
   ]
  },
  {
   "cell_type": "markdown",
   "id": "fc78cb10",
   "metadata": {},
   "source": [
    "test:"
   ]
  },
  {
   "cell_type": "code",
   "execution_count": null,
   "id": "c31cd434",
   "metadata": {},
   "outputs": [],
   "source": [
    "#message = \"55 year old man with nsclc and currently treated with Osimertinib\" # -> condition='non-small cell lung cancer (NSCLC)' intervention='Osimertinib' age=55 gender='MALE'\n",
    "message = \"I have a 55-year-old female with metastatic triple-negative breast cancer. She has progressed after first-line carboplatin/paclitaxel and immunotherapy with pembrolizumab. Looking for trials with novel antibody-drug conjugates or PARP inhibitors, preferably in the Northeast US.\"\n",
    "\n",
    "result = await Runner.run(search_planner, message)"
   ]
  },
  {
   "cell_type": "code",
   "execution_count": 40,
   "id": "6519fd0a",
   "metadata": {},
   "outputs": [
    {
     "name": "stdout",
     "output_type": "stream",
     "text": [
      "condition='metastatic triple-negative breast cancer' intervention='novel antibody-drug conjugates OR PARP inhibitors' age=55 gender='FEMALE' location='Northeast US'\n"
     ]
    }
   ],
   "source": [
    "scheme = result.final_output\n",
    "print(scheme)"
   ]
  },
  {
   "cell_type": "code",
   "execution_count": 41,
   "id": "ff763aa7",
   "metadata": {},
   "outputs": [
    {
     "name": "stdout",
     "output_type": "stream",
     "text": [
      "(AREA[MinimumAge]RANGE[MIN, 55 years] AND AREA[MaximumAge]RANGE[55 years, MAX]) OR AREA[MinimumAge]RANGE[MIN, 55 years] AND AREA[Sex](FEMALE OR ALL)\n"
     ]
    }
   ],
   "source": [
    "# test look for trials:\n",
    "trials = look_for_trials(query_codition=scheme.condition, gender=scheme.gender, age=scheme.age, query_intervention=scheme.intervention, query_location=\"\")"
   ]
  },
  {
   "cell_type": "code",
   "execution_count": null,
   "id": "4f4494e0",
   "metadata": {},
   "outputs": [],
   "source": [
    "trials"
   ]
  },
  {
   "cell_type": "code",
   "execution_count": null,
   "id": "05066f02",
   "metadata": {},
   "outputs": [],
   "source": [
    "# Agent 2 (Search Agent): Once the Intake Agent has a de-identified, structured query, it performs a handoff to this agent. The Search Agent uses a tool to search a clinical trial database like ClinicalTrials.gov."
   ]
  },
  {
   "cell_type": "code",
   "execution_count": null,
   "id": "ec5a5034",
   "metadata": {},
   "outputs": [],
   "source": [
    "# Agent 3 (Analysis Agent): The Search Agent hands off its results to the Analysis Agent. This agent analyzes the eligibility criteria of the retrieved trials and compares them to the patient's profile to create a ranked list of potential matches."
   ]
  },
  {
   "cell_type": "code",
   "execution_count": null,
   "id": "3cdbdfd7",
   "metadata": {},
   "outputs": [],
   "source": [
    "# Output: The final output is a list of clinical trials with brief summaries of each and a note on why the patient may be a good fit, all presented in a clear, easy-to-read format."
   ]
  },
  {
   "cell_type": "code",
   "execution_count": null,
   "id": "38b20330",
   "metadata": {},
   "outputs": [
    {
     "data": {
      "text/plain": [
       "' imporvements:\\nLoction Filer:\\n    You can further refine this by letting the user input their specific city or zip code and then using a tool to calculate the distance to the geoPoint coordinates of each trial location.\\n\\nAge filter:\\n'"
      ]
     },
     "execution_count": 173,
     "metadata": {},
     "output_type": "execute_result"
    }
   ],
   "source": [
    "\"\"\" imporvements:\n",
    "Loction Filer:\n",
    "    You can further refine this by letting the user input their specific city or zip code and then using a tool to calculate the distance to the geoPoint coordinates of each trial location.\n",
    "\n",
    "\"\"\""
   ]
  },
  {
   "cell_type": "code",
   "execution_count": 16,
   "id": "85efdd01",
   "metadata": {},
   "outputs": [],
   "source": [
    "def build_advanced_filters(age = None, sex = None):\n",
    "    # Build the advanced filter string\n",
    "    advanced_filters = []\n",
    "\n",
    "    if age is not None:\n",
    "        advanced_filters.append(f\"(AREA[MinimumAge]RANGE[MIN, {age} years] AND AREA[MaximumAge]RANGE[{age} years, MAX]) OR AREA[MinimumAge]RANGE[MIN, {age} years]\")\n",
    "    \n",
    "    if sex and sex.upper() in [\"MALE\", \"FEMALE\"]:\n",
    "        advanced_filters.append(f\"AREA[Sex]({sex.upper()} OR ALL)\")\n",
    "\n",
    "    return advanced_filters"
   ]
  },
  {
   "cell_type": "code",
   "execution_count": 51,
   "id": "4c39d4d2",
   "metadata": {},
   "outputs": [],
   "source": [
    "def look_for_trials(\n",
    "    query_codition: str = \"\",\n",
    "    query_intervention: str = \"\",\n",
    "    age = None,\n",
    "    gender: str = \"ALL\",\n",
    "    query_location: str = \"Germany\",\n",
    "    overall_status: str = \"RECRUITING\"\n",
    "):\n",
    "    \"\"\" \n",
    "    query clinicaltrials.gov API to get a json af available trials\n",
    "    query_condition: \"Conditions or disease\" query\n",
    "    query_intervention: \"Intervention / treatment\" query\n",
    "    overall_status:  ACTIVE_NOT_RECRUITING ┃ COMPLETED ┃ ENROLLING_BY_INVITATION ┃ NOT_YET_RECRUITING ┃ RECRUITING ┃ SUSPENDED ┃ TERMINATED ┃ WITHDRAWN ┃ AVAILABLE ┃ NO_LONGER_AVAILABLE ┃ TEMPORARILY_NOT_AVAILABLE ┃ APPROVED_FOR_MARKETING ┃ WITHHELD ┃ UNKNOWN\n",
    "    query_location: \"Location terms\" query\n",
    "\n",
    "    \"\"\"\n",
    "    # The search query\n",
    "    query_params = {\n",
    "        \"query.titles\": \"\",\n",
    "        \"query.term\": \"\",\n",
    "        \"query.cond\": query_codition,\n",
    "        \"query.intr\": query_intervention,\n",
    "        \"query.locn\": query_location,\n",
    "        \"filter.overallStatus\": overall_status,\n",
    "        #\"filter.geo\": distance(latitude,longitude,distance), #Examples: distance(39.0035707,-77.1013313,50mi)\n",
    "        \"pageSize\": 10,\n",
    "        \"fields\": \"NCTId,BriefTitle,OfficialTitle,OverallStatus,BriefSummary,EligibilityModule,ContactsLocationsModule\", #Phases?\n",
    "        \"sort\": \"@relevance\",\n",
    "        \"countTotal\": \"true\",\n",
    "    }\n",
    "\n",
    "    # Build the advanced filter string\n",
    "    advanced_filters = build_advanced_filters(age, gender)#, gender)\n",
    "\n",
    "    if advanced_filters:\n",
    "        query_params[\"filter.advanced\"] = \" AND \".join(advanced_filters)\n",
    "        print(query_params[\"filter.advanced\"])\n",
    "\n",
    "    # The API endpoint\n",
    "    url = \"https://clinicaltrials.gov/api/v2/studies\"\n",
    "\n",
    "    data = {}\n",
    "\n",
    "    try:\n",
    "        # Send the GET request\n",
    "        response = requests.get(url, params=query_params)\n",
    "        response.raise_for_status()\n",
    "\n",
    "        data = response.json()\n",
    "\n",
    "    except Exception as e:\n",
    "        print(f\"An error occurred: {e}\")\n",
    "\n",
    "    return data if data else {}"
   ]
  },
  {
   "cell_type": "markdown",
   "id": "523f9bc8",
   "metadata": {},
   "source": [
    "test:"
   ]
  },
  {
   "cell_type": "code",
   "execution_count": 21,
   "id": "7b693f19",
   "metadata": {},
   "outputs": [
    {
     "name": "stdout",
     "output_type": "stream",
     "text": [
      "(AREA[MinimumAge]RANGE[MIN, 50 years] AND AREA[MaximumAge]RANGE[50 years, MAX]) OR AREA[MinimumAge]RANGE[MIN, 50 years] AND AREA[Sex](MALE OR ALL)\n"
     ]
    }
   ],
   "source": [
    "# test look for trials:\n",
    "trials = look_for_trials(query_codition=\"nsclc\", gender=\"MALE\", age=50, query_intervention=\"Osimertinib\", query_location=\"Essen\")"
   ]
  },
  {
   "cell_type": "code",
   "execution_count": null,
   "id": "3eb866f5",
   "metadata": {},
   "outputs": [],
   "source": [
    "trials"
   ]
  },
  {
   "cell_type": "code",
   "execution_count": 34,
   "id": "1b90fa9f",
   "metadata": {},
   "outputs": [],
   "source": [
    "def create_paylod(trials):\n",
    "    lean_trials_data = []\n",
    "    for trial in trials.get(\"studies\", []):\n",
    "        ps = trial.get(\"protocolSection\", {})\n",
    "        idm = ps.get(\"identificationModule\", {})\n",
    "        stm = ps.get(\"statusModule\", {})\n",
    "        dsm = ps.get(\"descriptionModule\", {})\n",
    "        elm = ps.get(\"eligibilityModule\", {})\n",
    "\n",
    "        record = {\n",
    "            \"nctId\": idm.get(\"nctId\"),\n",
    "            \"briefTitle\": idm.get(\"briefTitle\"),\n",
    "            \"officialTitle\": idm.get(\"officialTitle\"),\n",
    "\n",
    "            \"status\": stm.get(\"overallStatus\"),\n",
    "\n",
    "            \"summary\": dsm.get(\"briefSummary\"),\n",
    "\n",
    "            \"eligibilityCriteria\": elm.get(\"eligibilityCriteria\"),\n",
    "            \"age\": {\"min\": elm.get(\"minimumAge\", \"None\"), \"max\": elm.get(\"maximumAge\", \"None\")},\n",
    "            \"sex\": elm.get(\"sex\")\n",
    "\n",
    "        }\n",
    "\n",
    "        lean_trials_data.append(record)\n",
    "\n",
    "    return lean_trials_data"
   ]
  },
  {
   "cell_type": "markdown",
   "id": "b0b32f0b",
   "metadata": {},
   "source": [
    "test"
   ]
  },
  {
   "cell_type": "code",
   "execution_count": 43,
   "id": "5fcb39dc",
   "metadata": {},
   "outputs": [],
   "source": [
    "lean = create_paylod(trials)"
   ]
  },
  {
   "cell_type": "code",
   "execution_count": 44,
   "id": "f164d817",
   "metadata": {},
   "outputs": [
    {
     "data": {
      "text/plain": [
       "[{'nctId': 'NCT04837209',\n",
       "  'briefTitle': 'Radiation, Immunotherapy and PARP Inhibitor in Triple Negative Breast Cancer',\n",
       "  'officialTitle': 'A Phase II Study of NirAparib, Dostarlimab and Radiotherapy in Metastatic, PD-L1 Negative or Immunotherapy-Refractory Triple-Negative Breast Cancer (NADiR)',\n",
       "  'status': 'RECRUITING',\n",
       "  'summary': 'This research study is looking to see whether the combination of Dostarlimab and Niraparib plus Radiation Therapy (RT) is safe and effective in participants with metastatic triple negative breast cancer.\\n\\nThe names of the study treatment involved in this study are:\\n\\n* Dostarlimab\\n* Niraparib\\n* Radiation Therapy (RT), which is given per standard of care.',\n",
       "  'eligibilityCriteria': \"Inclusion Criteria:\\n\\n* Age ≥ 18 years.\\n* ECOG performance status ≤ 1\\n* Histologically or cytologically-confirmed TNBC (ER \\\\<1%, PR \\\\<1%, HER-2-neu 0-1+ by IHC or non-FISH-amplified63. ER-low, PR-low (defined as ER and/or PR 1-10%) and HER2-negative patients may also be eligible, as per treating MD discretion).\\n* Metastatic or recurrent TNBC.\\n* Prior progression on immune-checkpoint inhibitor and/or PDL1-negative. Note: PDL1-status may be determined on tissues from either primary or mTNBC. PD-L1 status must be determined by an FDA-approved assay approved for breast cancer, such as PharmDx IHC (22C3) for pembrolizumab, Ventana (SP142) for atezolizumab\\n* No more than 2 prior lines of systemic therapy for inoperable/recurrent or metastatic disease.\\n\\nNote: Prior line of systemic therapy includes targeted or biologic agents in combination or the absence of chemotherapy\\n\\n* Radiation is clinically indicated for local control or palliation.\\n* At least one tumor for which RT is considered clinically appropriate.\\n* At least one radiographically-confirmed metastases index lesion that will not undergo RT and is measurable based on RECIST v1.1.\\n* Prior therapy with targeted agents or other forms of immunotherapy is allowed\\n* Prior RT is permitted, provided the treating radiation oncologist deems that study RT treatment planning guidelines can be achieved.\\n* Available archived tumor tissue of a metastatic tumor collected up to 28 days prior to registration. If archival tissue is unavailable, participant willingness to provide tissue from a newly obtained core or excisional biopsy of a tumor lesion. Newly-obtained is defined as a specimen obtained up to 28 days prior to study registration.\\n* Adequate organ function (assessed within 8 days prior to initiation of protocol treatment, unless otherwise indicated) as follows:\\n\\n  * Hematology\\n\\n    * Absolute Neutrophil Count (ANC) ≥1500/mm3\\n    * Platelet Count ≥100,000/mm3\\n    * Hemoglobin ≥9.0 g/dL\\n  * Renal Function\\n\\n    * Serum Creatinine ≤ 1.5 x upper limit of normal (ULN) or\\n    * Measured or calculated a creatinine clearance ≥ 60 mL/min for participant with (GFR can also be used in place of creatinine creatinine levels \\\\> 1.5 X ULN or CrCl\\n  * Hepatic Function\\n\\n    * Total Bilirubin ≤ 1.5 mg/dL (Direct bilirubin ≤ ULN for participants with total bilirubin levels \\\\> 1.5 ULN)\\n    * INR, PT, aPTT ≤ 1.5 x ULN (participants receiving anticoagulant therapy must have PT or PTT within therapeutic range)\\n    * Albumin ≥ 2.5 mg/dL\\n    * Aspartate Aminotransferase (AST) ≤ 2.5 x ULNb\\n    * Alanine Aminotransferase (ALT) ≤ 2.5 x ULNb ULN = upper normal limit of institution's normal range\\n\\n      1. Creatinine clearance should be calculated per institutional standard.\\n      2. Participants with liver metastases may have AST and/or ALT ≤ 5 x ULN\\n* Female participant has a negative urine or serum pregnancy test within 7 days prior to study treatment if a woman has child-bearing potential and agrees to abstain from activities that could result in pregnancy from screening through 180 days after the last dose of study treatment or is of non-childbearing potential.\\n\\nNon-childbearing potential is defined as follows (by other than medical reasons):\\n\\n* ≥45 years of age and has not had menses for \\\\>1 year\\n* Patients who have been amenorrhoeic for \\\\<2 years without history of a hysterectomy and oophorectomy must have a follicle stimulating hormone value in the postmenopausal range upon screening evaluation\\n* Post-hysterectomy, post-bilateral oophorectomy, or post-tubal ligation. Documented hysterectomy or oophorectomy must be confirmed with medical records of the actual procedure or confirmed by an ultrasound. Tubal ligation must be confirmed with medical records of the actual procedure.\\n\\n  * Women of childbearing potential should be willing to use 2 methods of birth control or be surgically sterile, or abstain from heterosexual activity for the course of the study through 180 days after the last dose of study medication. Participants of childbearing potential are those who have not been surgically sterilized or have not been free from menses for \\\\> 1 year.\\n\\nNote: Abstinence is acceptable if this is the established and preferred contraception for the patient.\\n\\n* Male participant agrees to use an adequate method of contraception starting with the first dose of study treatment through 90 days after the last dose of study treatment. Note: Abstinence is acceptable if this is the established and preferred contraception for the patient.\\n* Male subjects must not donate sperm starting with the first dose of study drug through 90 days after the last dose of study drug.\\n* Participant must agree not to breastfeed during the study or for 30 days after the last dose of study treatment.\\n* Participant must agree to not donate blood during the study or for 90 days after the last dose of study treatment.\\n* Ability to swallow (whole) and retain oral medications.\\n* Ability to understand and the willingness to sign a written informed consent document.\\n\\nExclusion Criteria:\\n\\nParticipants who meet any of the following criteria will be excluded:\\n\\n* Known germline or somatic BRCA mutation-positive status\\n* Known active brain metastases or LMD (leptomeningeal disease). Note: Patients with previously treated brain metastases may participate provided they are stable (without evidence of progression by imaging \\\\[using the identical imaging modality for each assessment, either MRI or CT scan\\\\] for at least 4 weeks prior to the first dose of study treatment and any neurologic symptoms have returned to baseline), have no evidence of new or enlarging brain metastases, and have not been using steroids for at least 7 days prior to study treatment.\\n* Known additional malignancy that progressed or required treatment in the last 2 years. Exceptions include basal cell carcinoma of the skin or squamous cell carcinoma of the skin that has undergone potentially curative therapy or in situ cervical cancer.\\n* Prior treatment with either a PARP inhibitor or ICI is permitted, however, prior receipt of both therapies is excluded\\n* Receipt of \\\\>2 lines of chemo in the metastatic setting (including targeted or biologic agents in combination or the absence of chemotherapy)\\n* Hypersensitivity to niraparib or dostarlimab components or its excipients.\\n* Participation in a study of an investigational agent and received study therapy or used an investigational device within 4 weeks (or at least 5 half-lives from previous therapy) of the first dose of study treatment.\\n* Receipt of prior cytotoxic therapy or targeted small molecule therapy within 2 weeks prior to study Day 1 or who has not recovered (i.e., \\\\> Grade 1 or at baseline) from adverse events due to a previously administered agent, including grade 2 alopecia.\\n\\nNote: Participants with ≤ Grade 2 neuropathy are an exception to this criterion and may qualify for the study.\\n\\n* Patients who have undergone any major surgery within 3 weeks prior to study entry: patients must have recovered adequately from the toxicity and/or complications from the intervention prior to starting therapy.\\n* Active autoimmune disease that has required systemic treatment in the past 2 years (i.e. with use of disease modifying agents, corticosteroids or immunosuppressive drugs). Replacement therapy (e.g., thyroxine, insulin, or physiologic corticosteroid replacement therapy for adrenal or pituitary insufficiency, etc.) is not considered a form of systemic treatment.\\n* Diagnosis of immunodeficiency or is receiving systemic steroid therapy or any other form of immunosuppressive therapy within 7 days prior to the first dose of trial treatment. Use of local corticosteroid injections (e.g. intra-articular injections), inhaled, intranasal, ophthalmic, and topical corticosteroids, and subjects requiring corticosteroid pre-medication for hypersensitivity reactions (e.g. CT scan pre-medication) are allowed.\\n* Known history of/active, non-infectious pneumonitis requiring treatment with steroids or has history of/active interstitial lung disease.\\n* Active infection requiring systemic therapy.\\n* History or current evidence of any condition, therapy, or laboratory abnormality that might confound the results of the trial, interfere with the patient's participation for the full duration of the trial, or is not in the best interest of the patient to participate, in the opinion of the treating investigator.\\n* Known psychiatric or substance abuse disorders that would interfere with cooperation with the requirements of the trial.\\n* Participant has a serious, uncontrolled medical disorder, nonmalignant systemic disease, or active, uncontrolled infection. Examples include, but are not limited to, uncontrolled ventricular arrhythmia, recent (within 90 days) myocardial infarction, uncontrolled major seizure disorder, unstable spinal cord compression.\\n\\nPregnant or breastfeeding or expecting to conceive or father children within the projected duration of the trial, starting with the pre-screening or screening visit through 180 days after the last dose of trial treatment.\\n\\n* Known history of myelodysplastic syndrome (MDS) or acute myeloid leukemia (AML).\\n* Known history of Human Immunodeficiency Virus (HIV) (HIV 1/2 antibodies).\\n* Known active Hepatitis B (e.g., HbsAg reactive) or Hepatitis C (e.g., HCV RNA \\\\[qualitative\\\\] is detected).\\n* Known history of active TB (Bacillus Tuberculosis)\\n* Receipt of a live vaccine within 14 days of planned start of study therapy. Note: Seasonal influenza vaccines for injection are generally inactivated flu vaccines and are allowed; however intranasal influenza vaccines (e.g., Flu-Mist®) are live attenuated vaccines, and are not allowed.\\n* Participant must not have received a transfusion (platelets or red blood cells) ≤ 4 weeks prior to initiating protocol therapy.\\n* Participant must not have received colony stimulating factors (eg, granulocyte colony-stimulating factor, granulocyte macrophage colony stimulating factor, or recombinant erythropoietin) within 4 weeks prior initiating protocol therapy.\\n* Participant has had any known Grade 3 or 4 anemia, neutropenia or thrombocytopenia due to prior chemotherapy that persisted \\\\> 4 weeks and was related to the most recent treatment.\\n* Patient experienced ≥ Grade 3 immune-related AE with prior immunotherapy, with the exception of non-clinically significant lab abnormalities.\",\n",
       "  'age': {'min': '18 Years', 'max': 'None'},\n",
       "  'sex': 'ALL'},\n",
       " {'nctId': 'NCT05933265',\n",
       "  'briefTitle': 'Study of LP-184 in Patients With Advanced Solid Tumors',\n",
       "  'officialTitle': 'A Phase 1/2 Dose Escalation and Cohort Expansion Study of LP-184 in Patients With Advanced or Metastatic Solid Tumors',\n",
       "  'status': 'RECRUITING',\n",
       "  'summary': 'The primary objective of this study is to evaluate the safety, tolerability, MTD and RP2D of LP-184 in patients with advanced solid tumors who have relapsed from or are refractory to standard therapy or for whom no standard therapy is available. The secondary objectives are to characterize the PK of LP-184 and its metabolites in plasma and assess clinical activity of LP-184.\\n\\nParticipants will receive LP-184 infusion during Day 1 and Day 8 of each 21-day cycle, for a minimum of two cycles. Patients will be monitored for safety, PK, and clinical activity',\n",
       "  'eligibilityCriteria': \"Patient Inclusion Criteria:\\n\\n1. ≥18 years of age at the time of consent\\n2. Provided signed written ICF and voluntary consent prior to any mandatory study-specific procedures, sampling, and analyses.\\n3. Have a histologically or cytologically documented advanced solid tumor that has relapsed from or is refractory to standard treatment, or for which no standard treatment is available.\\n\\n   Note: patients with certain tumor types such as those with relatively high prevalence of DDR gene alterations and/or PTGR1 over expression (e.g., triple negative breast cancer, lung, prostate, ovarian, pancreatic, bladder, and GBM) may be preferentially enrolled in Phase 1a.\\n4. ECOG performance status 0-1 or Karnofsky performance scale \\\\>60 for GBM patients.\\n5. Patients must have measurable disease per RECIST 1.1 or RANO 2.0 criteria as applicable.\\n\\n   Note: patients without measurable disease may be eligible, following discussion with the investigator and the sponsor, if the patient presents with non-measurable but evaluable disease of any size unequivocally attributable to advanced solid tumor.\\n6. Patients must have life expectancy \\\\>3 months.\\n7. Adequate organ function at screening defined as:\\n\\n   Liver Function\\n   * AST, ALT ≤3 x ULN or \\\\<5 x ULN in cases of documented liver metastases or involvement of liver in the disease process.\\n   * Total serum bilirubin ≤1.5 x ULN or \\\\<5 x ULN if secondary to Gilbert's syndrome or documented liver metastases or involvement of liver in the disease process.\\n\\n   Renal Function\\n   * Serum creatinine clearance ≥60 mL/min either measured or calculated using standard Cockcroft-Gault formula.\\n   * Serum electrolyte (potassium, calcium, and magnesium) levels within the normal reference range (may be supplemented according to institutional standard).\\n\\n   Bone Marrow Function:\\n   * ANC ≥1500/μL.\\n   * Hemoglobin ≥8 g/dL (The use of transfusion or other intervention to achieve hemoglobin ≥8 g/dL is acceptable. For those patients undergoing RBC transfusion, hemoglobin must be evaluated at least 14 days after the last RBC transfusion).\\n   * Platelet count ≥100,000/μL (assessed ≥7 days following last platelet transfusion in patients with thrombocytopenia requiring platelets).\\n\\n   Blood clotting function:\\n\\n   \\\\- INR and aPTT ≤1.5 x ULN. Study patients on therapeutic doses of anticoagulation medication must have INR and/or aPTT ≤ the upper limit of the therapeutic range for intended use.\\n8. Women of childbearing potential (WOCBP) must have a negative serum or urine pregnancy test within 3 days of first dose of LP-184. A woman is of child-bearing potential unless she:\\n\\n   * has had a hysterectomy, bilateral tubal ligation, or bilateral oophorectomy;\\n   * is age ≥60 years and is amenorrhoeic; or\\n   * is age \\\\<60 years and has been amenorrhoeic for ≥12 months (including no irregular menses or spotting) in the absence of any medication which induces a menopausal state and has documented ovarian failure by serum estradiol and follicle-stimulating hormone levels within the institutional laboratory postmenopausal range).\\n9. WOCBP or must agree to use highly effective contraceptive methods and avoid egg donation during the study treatment and for 6 months after the last dose of LP-184.\\n10. Men of reproductive potential agree to use highly effective contraceptive methods and avoid sperm donation during the study treatment and for 3 months after the last dose of LP-184. A man is of child-producing potential unless he has had a bilateral vasectomy with documented aspermia or a bilateral orchiectomy.\\n11. Is willing to provide archived samples (blocks and/or slides) for comprehensive DDR genomic analyses and/or PTGR1 expression profiling and/or other genomic alterations if the patient has a PR/CR.\\n12. Regarding brain metastases, based on screening contrast brain MRI, patients must have 1of the following:\\n\\n    * No evidence of brain metastases\\n    * Untreated brain metastases not requiring immediate local therapy. For patients with untreated CNS lesions \\\\>2.0 cm on screening contrast brain MRI, discussion with and approval from the Medical Monitor is required prior to enrollment.\\n    * Previously treated brain metastases that are either stable for at least 4 weeks since last treatment or progressed since prior local CNS therapy and not requiring immediate re-treatment with local therapy in the opinion of the investigator.\\n\\nPatient Exclusion Criteria:\\n\\n1. Exposure to anti-cancer therapy within 2 weeks or within at least 5 half-lives of the anticancer agent whichever is shorter; or 4 weeks from any biologics/immunotherapies or any investigational therapy prior to the first dose of LP-184.\\n\\n   Note: Low dose steroids (oral prednisone or equivalent ≤20 mg/day, except patients with GBM), localized non-CNS radiotherapy, previous hormonal therapy with luteinizing hormone-releasing hormone agonists for prostate cancer and treatment with bisphosphonates and RANKL inhibitors are not criteria for exclusion if such therapy has not been changed within 4 weeks before LP-184 treatment.\\n2. Any history of retinopathy and/or macular degeneration (without specifications or grades).\\n3. Has received radiation within 4 weeks of Cycle 1 Day 1. Unless the tumor at the site of treatment continues to increase in size after the patient has completed radiotherapy treatment.\\n4. Infection requiring antibiotics, antivirals, or antifungals within 1 week prior to first dose of study drug, unless such infection is adequately controlled (defined as exhibiting no ongoing signs/symptoms related to the infection and with clinical improvement). In the case of prophylactic use of these agents, discussion with the Medical Monitor is required prior to enrollment.\\n5. Hepatitis B and/or hepatitis C infection (as detected by positive testing for hepatitis B surface antigen \\\\[HbsAg\\\\] or antibody to hepatitis C virus with confirmatory testing) or known seropositivity for or history of active viral infection with human immunodeficiency virus (HIV).\\n6. Are pregnant or breastfeeding. (NOTE: breast milk cannot be stored for future use while the mother is being treated on study).\\n7. Have clinically significant cardiac disease including:\\n\\n   * New York Heart Association Class IV heart failure.\\n   * Myocardial infarction or stroke ≤3 months prior to the first dose of LP-184.\\n   * Unstable angina within ≤12 weeks prior to the first dose of LP-184 unless the underlying disease has been corrected by procedural intervention e.g., stent, bypass.\\n   * Severe aortic stenosis.\\n   * Uncontrolled arrhythmia. Sponsor approval of patients with arrhythmia is required.\\n   * QTc \\\\>470 ms by Fredericia criteria.\\n   * Congenital long QT syndrome, or a QT interval corrected by Fridericia's formula (QTcF) \\\\>470 ms (average of triplicate ECGs) at Screening and/or on Cycle 1 Day 1 (pre-dose) except for a documented bundle branch block or unless secondary to pacemaker. In the case of a documented bundle branch block or a pacemaker, discussion with the medical monitor is required prior to enrollment.\\n8. Have clinically significant AEs that have not returned to baseline or ≤Grade 1 based on NCI-CTCAE prior to first dose of study drug, unless approved by the sponsor. Patients with chronic Grade 2 toxicities may be eligible per the discretion of the investigator and sponsor (e.g., Grade 2 chemotherapy-induced neuropathy, alopecia, or hypothyroidism from prior immunotherapy treatment).\\n9. Have had major surgery (requiring general anesthesia) within ≤4 weeks of first dose of LP-184.\\n10. Have any other serious medical condition which, in the opinion of the investigator, would preclude the patient from study participation.\\n11. Have clinically active brain metastases, defined as untreated and symptomatic, or requiring therapy with steroids at a dose \\\\> 2 mg of dexamethasone or equivalent or anticonvulsants to control associated symptoms. Patients with treated brain metastases that are no longer symptomatic and who require no treatment with steroids may be included in the study if they have recovered from the acute toxic effect of radiotherapy. A minimum of 4 weeks must have elapsed between the end of whole brain radiotherapy and study enrollment (1 week for stereotactic radiotherapy).\\n12. For patients with suspected or known CNS metastatic disease, based on screening brain MRI, patients must not have:\\n\\n    Any untreated brain lesions \\\\>2.0 cm in size unless Medical Monitor approved enrollment.\\n\\n    Ongoing use of systemic corticosteroids for control of symptoms of brain metastases at a total daily dose of \\\\>2 mg of dexamethasone (or equivalent).\\n\\n    Patients on a chronic stable dose of ≤2 mg total daily of dexamethasone (or equivalent) are eligible with discussion and approval by the medical monitor. (Note: this is not applicable to patients with GBM).\\n\\n    Any brain lesion thought to require immediate local therapy, including (but not limited to) a lesion in an anatomic site where an increase in size or possible treatment-related edema may pose a risk to the patient (e.g., brain stem lesions). Patients who underwent local treatment for such lesions identified by screening contrast brain MRI may still be eligible based on criteria described under CNS inclusion criteria described above.\\n\\n    • Known or suspected leptomeningeal disease as documented by the investigator.\\n13. Male patients with partners currently pregnant, or male patients able to father children, and female patients of childbearing potential who are unwilling or unable to use highly effective methods of contraception as outlined in this protocol for the duration of the study and for at least 3 months (male) or 6 months (female) after last dose of study drug\",\n",
       "  'age': {'min': '18 Years', 'max': 'None'},\n",
       "  'sex': 'ALL'}]"
      ]
     },
     "execution_count": 44,
     "metadata": {},
     "output_type": "execute_result"
    }
   ],
   "source": [
    "lean"
   ]
  },
  {
   "cell_type": "code",
   "execution_count": 37,
   "id": "2444ea2d",
   "metadata": {},
   "outputs": [],
   "source": [
    "class Trial_Format(BaseModel):\n",
    "    rank: int = Field(description=\"The rank of the trial.\")\n",
    "    nctId: str = Field(description=\"The nctId of the trial\")\n",
    "    reason: str = Field(\"The reason for the decision\")\n",
    "\n",
    "class Rank_Format(BaseModel):\n",
    "    ranks: list[Trial_Format] = Field(description=\"Ranked list of the trials\")\n",
    "\n",
    "\n",
    "INSTRUCTIONS = \"\"\"You are a medical assistant. Given a free text description of a patient and a list of clinical trials, evaluate if the patient is an appropriate fit for the trials.\n",
    "Go through the trials one by one and give a short reason why the patient might be a fit or why not. Then rank the trials in order, starting with the one that best fits the patient.\n",
    "Return only the rank, the nctId and the reason for each trial:\n",
    "1. nctId, reason\n",
    "2. nctId, reason\n",
    "...\"\"\"\n",
    "\n",
    "ranker = Agent(\n",
    "    name=\"Trial ranker\",\n",
    "    instructions=INSTRUCTIONS,\n",
    "    model=\"gpt-4o-mini\",\n",
    "    output_type=Rank_Format\n",
    ")"
   ]
  },
  {
   "cell_type": "markdown",
   "id": "74f5fccf",
   "metadata": {},
   "source": [
    "test:"
   ]
  },
  {
   "cell_type": "code",
   "execution_count": 45,
   "id": "ef85db61",
   "metadata": {},
   "outputs": [
    {
     "name": "stdout",
     "output_type": "stream",
     "text": [
      "ranks=[Trial_Format(rank=1, nctId='NCT04837209', reason='This trial is specifically focused on metastatic triple-negative breast cancer and includes patients who have progressed after immunotherapy, making it a strong fit for the patient. It also includes a PARP inhibitor (Niraparib) which the patient is seeking.'), Trial_Format(rank=2, nctId='NCT05933265', reason=\"While this trial addresses advanced solid tumors including triple-negative breast cancer, it does not specifically mention the use of a PARP inhibitor or antibody-drug conjugates, which are the primary interests of the patient. However, the patient's eligibility based on prior therapies fits this study.\")]\n"
     ]
    }
   ],
   "source": [
    "message_desc =  message #\"55 year old man with nsclc and currently treated with Osimertinib\"\n",
    "\n",
    "json_trial_payload = create_paylod(trials)\n",
    "\n",
    "message = f\"Description of the patient: {message_desc};\\n\\nTrials: {json_trial_payload}\"\n",
    "\n",
    "ranks = await Runner.run(ranker, message)\n",
    "\n",
    "output = ranks.final_output\n",
    "print(output)"
   ]
  },
  {
   "cell_type": "markdown",
   "id": "06906c85",
   "metadata": {},
   "source": []
  },
  {
   "cell_type": "code",
   "execution_count": null,
   "id": "d2f3a0a6",
   "metadata": {},
   "outputs": [],
   "source": [
    "# nctId -> output of the most relevant information\n",
    "# nctId, locations, ,brief title, reason, contact info?"
   ]
  },
  {
   "cell_type": "code",
   "execution_count": 46,
   "id": "506b14ae",
   "metadata": {},
   "outputs": [],
   "source": [
    "from geopy.distance import geodesic\n",
    "\n",
    "def calculate_distance_to_point(point_a, point_constant):\n",
    "\n",
    "    \"\"\"the ouput of the 2 print statements looks like this:\n",
    "        {'lat': 33.70918, 'lon': -117.95367}\n",
    "        (33.70918, -117.95367)\n",
    "        {'lat': 33.80307, 'lon': -118.07256}\n",
    "        (33.80307, -118.07256)\n",
    "        {'lat': 34.05223, 'lon': -118.24368}\n",
    "        (34.05223, -118.24368)\n",
    "    \"\"\"\n",
    "    #print(point_a)\n",
    "    try:\n",
    "        point_coords = (point_a[\"lat\"], point_a[\"lon\"])\n",
    "        #print(point_coords)\n",
    "\n",
    "        distance_km = geodesic(point_coords, point_constant).km\n",
    "    except Exception as e:\n",
    "        #print(f\"Error when trying to cal the distance or extracting the point: {e}\")\n",
    "        distance_km = 999_999\n",
    "\n",
    "    return distance_km\n",
    "    "
   ]
  },
  {
   "cell_type": "markdown",
   "id": "5a89a29f",
   "metadata": {},
   "source": [
    "test:"
   ]
  },
  {
   "cell_type": "code",
   "execution_count": 91,
   "id": "d67f91f0",
   "metadata": {},
   "outputs": [
    {
     "name": "stdout",
     "output_type": "stream",
     "text": [
      "3950.7715935815577\n"
     ]
    }
   ],
   "source": [
    "# Define the two geopoints as tuples (latitude, longitude)\n",
    "point_a ={\"lat\": 40, \"lon\": -74}  # New York City\n",
    "point_b = (34.0522, -118.2437) # Los Angeles\n",
    "print(calculate_distance_to_point(point_a, point_b))"
   ]
  },
  {
   "cell_type": "code",
   "execution_count": null,
   "id": "84c56f54",
   "metadata": {},
   "outputs": [],
   "source": [
    "def find_trial(trials: dict, id: str) -> dict | None:\n",
    "    target = id.strip().upper()\n",
    "    for trial in trials.get(\"studies\", []):\n",
    "        ps = trial.get(\"protocolSection\", {})\n",
    "        idm = ps.get(\"identificationModule\", {})\n",
    "\n",
    "        nctId = idm.get(\"nctId\").strip().upper()\n",
    "\n",
    "        if nctId == target:\n",
    "            return trial\n",
    "    return None\n",
    "\n",
    "\n",
    "def find_locations(trials: dict, id: str):\n",
    "    trial_by_id = find_trial(trials, id)\n",
    "\n",
    "    ps = trial_by_id.get(\"protocolSection\", {})\n",
    "    clm = ps.get(\"contactsLocationsModule\")\n",
    "    loc = clm.get(\"locations\")\n",
    "\n",
    "    locations = []\n",
    "\n",
    "    for i in loc:\n",
    "        location_dict = {}\n",
    "        location_dict[\"facility\"] = i.get(\"facility\")\n",
    "        location_dict[\"geoPoint\"] = i.get(\"geoPoint\")\n",
    "\n",
    "        locations.append(location_dict)\n",
    "\n",
    "    #print(locations)\n",
    "    try:\n",
    "        point = (51.4641, 6.8771) #choose a point lat | lon of your choice!!!\n",
    "        sorted_locations = sorted(locations, key=lambda loc: calculate_distance_to_point(loc[\"geoPoint\"], point))\n",
    "    except Exception as e:\n",
    "        #print(f\"Error when calculatin distance: {e}\")\n",
    "        sorted_locations = locations\n",
    "\n",
    "    return sorted_locations\n"
   ]
  },
  {
   "cell_type": "markdown",
   "id": "a8770b6b",
   "metadata": {},
   "source": [
    "test"
   ]
  },
  {
   "cell_type": "code",
   "execution_count": 48,
   "id": "449fbf6c",
   "metadata": {},
   "outputs": [],
   "source": [
    "def get_clean_trial(target_id: str, json_trial_payload):\n",
    "    for trial in json_trial_payload:\n",
    "        id = trial.get(\"nctId\").strip().upper()\n",
    "        if id == target_id.strip().upper():\n",
    "            return(trial)\n",
    "    return None\n",
    "\n",
    "\n",
    "def format_output(trials: dict, target_id: str, clean_trials_payload: dict):\n",
    "    trial = get_clean_trial(target_id, clean_trials_payload)\n",
    "\n",
    "    trial_info = \"\"\n",
    "\n",
    "    trial_info += f\"nctId: {trial.get(\"nctId\")}\\n\"\n",
    "    trial_info += f\"Title: {trial.get(\"briefTitle\")}\\n\"\n",
    "    trial_info += f\"Status: {trial.get(\"status\")}\\n\"\n",
    "\n",
    "    locations = find_locations(trials, target_id)\n",
    "    #print(locations)\n",
    "\n",
    "\n",
    "    trial_info += f\"Locations: \"\n",
    "    for l in locations[:5]:\n",
    "        facility = l.get(\"facility\")\n",
    "        trial_info += f\"{facility}, \"\n",
    "\n",
    "    print(trial_info)"
   ]
  },
  {
   "cell_type": "markdown",
   "id": "316a6428",
   "metadata": {},
   "source": [
    "test:"
   ]
  },
  {
   "cell_type": "code",
   "execution_count": 95,
   "id": "4dabea0f",
   "metadata": {},
   "outputs": [
    {
     "name": "stdout",
     "output_type": "stream",
     "text": [
      "[{'facility': 'Charité Universitätsmedizin Berlin Campus Virchow Klinikum Klinik mit Schwerpunkt Infektiologie und Pneumologie', 'geoPoint': {'lat': 52.52437, 'lon': 13.41053}}, {'facility': 'Universitätsklinik Köln, Lung Cancer Group Cologne - Innere Medizin I', 'geoPoint': {'lat': 50.93333, 'lon': 6.95}}, {'facility': 'Technische Universität Dresden Medizinische Fakultät Carl Gustav Carus Medizinische Klinik und Poliklinik I', 'geoPoint': {'lat': 51.05089, 'lon': 13.73832}}, {'facility': 'Universitätsklinikum Essen, Westdeutsches Tumorzentrum - Innere Klinik', 'geoPoint': {'lat': 51.45657, 'lon': 7.01228}}, {'facility': 'University Hospital Frankfurt', 'geoPoint': {'lat': 49.68333, 'lon': 10.53333}}, {'facility': 'Asklepios Lungenklinik Gauting', 'geoPoint': {'lat': 48.06919, 'lon': 11.37703}}, {'facility': 'MVZ II der Niels Stensen Kliniken; Franziskus Hospital Harderberg', 'geoPoint': {'lat': 52.20296, 'lon': 8.0448}}, {'facility': 'Universitätsmedizin Göttingen, Klinik für Hämatologie und Medizinische Onkologie', 'geoPoint': {'lat': 51.53443, 'lon': 9.93228}}, {'facility': 'Krankenhaus Martha-Maria Halle-Dölau Klinik für Innere Medizin II', 'geoPoint': {'lat': 51.48158, 'lon': 11.97947}}, {'facility': 'Universitätsklinikum Hamburg-Eppendorf Hubertus Wald Tumorzentrum - UCCH II. Medizinische Klinik und Poliklinik', 'geoPoint': {'lat': 53.55073, 'lon': 9.99302}}, {'facility': 'Universitätsklinikum Heidelberg, Thoraxklinik Heidelberg gGmbH', 'geoPoint': {'lat': 49.40768, 'lon': 8.69079}}, {'facility': 'DGD Lungenklinik Hemer', 'geoPoint': {'lat': 51.38707, 'lon': 7.77019}}, {'facility': 'Universitätsmedizin der Johannes Gutenberg-Universität Mainz', 'geoPoint': {'lat': 49.98185, 'lon': 8.28008}}, {'facility': 'LMU-München Pneumologie und Thorakale Onkologie Medizinische Klinik V; Innenstadt', 'geoPoint': {'lat': 51.60698, 'lon': 13.31243}}, {'facility': 'Klinikum Nürnberg Nord Paracelsus Med. Privat Universität Pneumologie und Lungentumorzentrum', 'geoPoint': {'lat': 49.45421, 'lon': 11.07752}}, {'facility': 'Pius Hospital Oldenburg Medizinischer Campus Universität Oldenburg', 'geoPoint': {'lat': 53.14118, 'lon': 8.21467}}]\n",
      "[{'facility': 'Universitätsklinikum Essen, Westdeutsches Tumorzentrum - Innere Klinik', 'geoPoint': {'lat': 51.45657, 'lon': 7.01228}}, {'facility': 'Universitätsklinik Köln, Lung Cancer Group Cologne - Innere Medizin I', 'geoPoint': {'lat': 50.93333, 'lon': 6.95}}, {'facility': 'DGD Lungenklinik Hemer', 'geoPoint': {'lat': 51.38707, 'lon': 7.77019}}, {'facility': 'MVZ II der Niels Stensen Kliniken; Franziskus Hospital Harderberg', 'geoPoint': {'lat': 52.20296, 'lon': 8.0448}}, {'facility': 'Universitätsmedizin der Johannes Gutenberg-Universität Mainz', 'geoPoint': {'lat': 49.98185, 'lon': 8.28008}}, {'facility': 'Pius Hospital Oldenburg Medizinischer Campus Universität Oldenburg', 'geoPoint': {'lat': 53.14118, 'lon': 8.21467}}, {'facility': 'Universitätsmedizin Göttingen, Klinik für Hämatologie und Medizinische Onkologie', 'geoPoint': {'lat': 51.53443, 'lon': 9.93228}}, {'facility': 'Universitätsklinikum Heidelberg, Thoraxklinik Heidelberg gGmbH', 'geoPoint': {'lat': 49.40768, 'lon': 8.69079}}, {'facility': 'Universitätsklinikum Hamburg-Eppendorf Hubertus Wald Tumorzentrum - UCCH II. Medizinische Klinik und Poliklinik', 'geoPoint': {'lat': 53.55073, 'lon': 9.99302}}, {'facility': 'University Hospital Frankfurt', 'geoPoint': {'lat': 49.68333, 'lon': 10.53333}}, {'facility': 'Krankenhaus Martha-Maria Halle-Dölau Klinik für Innere Medizin II', 'geoPoint': {'lat': 51.48158, 'lon': 11.97947}}, {'facility': 'Klinikum Nürnberg Nord Paracelsus Med. Privat Universität Pneumologie und Lungentumorzentrum', 'geoPoint': {'lat': 49.45421, 'lon': 11.07752}}, {'facility': 'LMU-München Pneumologie und Thorakale Onkologie Medizinische Klinik V; Innenstadt', 'geoPoint': {'lat': 51.60698, 'lon': 13.31243}}, {'facility': 'Charité Universitätsmedizin Berlin Campus Virchow Klinikum Klinik mit Schwerpunkt Infektiologie und Pneumologie', 'geoPoint': {'lat': 52.52437, 'lon': 13.41053}}, {'facility': 'Technische Universität Dresden Medizinische Fakultät Carl Gustav Carus Medizinische Klinik und Poliklinik I', 'geoPoint': {'lat': 51.05089, 'lon': 13.73832}}, {'facility': 'Asklepios Lungenklinik Gauting', 'geoPoint': {'lat': 48.06919, 'lon': 11.37703}}]\n",
      "nctId: NCT05281406\n",
      "Title: Additional Chemotherapy for EGFRm Patients with the Continued Presence of Plasma CtDNA EGFRm At Week 3 After Start of Osimertinib 1st-line Treatment (PACE-LUNG)\n",
      "Status: RECRUITING\n",
      "Locations: Universitätsklinikum Essen, Westdeutsches Tumorzentrum - Innere Klinik, Universitätsklinik Köln, Lung Cancer Group Cologne - Innere Medizin I, DGD Lungenklinik Hemer, MVZ II der Niels Stensen Kliniken; Franziskus Hospital Harderberg, Universitätsmedizin der Johannes Gutenberg-Universität Mainz, \n"
     ]
    }
   ],
   "source": [
    "format_output(trials, \"NCT05281406\", json_trial_payload)"
   ]
  },
  {
   "cell_type": "code",
   "execution_count": 118,
   "id": "ceb9e64f",
   "metadata": {},
   "outputs": [
    {
     "name": "stdout",
     "output_type": "stream",
     "text": [
      "40 year old male with diabets typ 2 and insulin\n",
      "condition='Type 2 diabetes' intervention='Insulin' age=40 gender='MALE'\n",
      "(AREA[MinimumAge]RANGE[MIN, 40 years] AND AREA[MaximumAge]RANGE[40 years, MAX]) OR AREA[MinimumAge]RANGE[MIN, 40 years] AND AREA[Sex](MALE OR ALL)\n",
      "7\n",
      "ranks=[Trial_Format(rank=1, nctId='NCT07068295', reason=\"The patient is a 40 year old male with Type 2 Diabetes and currently using insulin, fitting well within the trial's inclusion criteria for male participants aged 18-69 and treated with insulin.\"), Trial_Format(rank=2, nctId='NCT07146347', reason=\"The patient is a male diagnosed with Type 2 Diabetes, which aligns with the trial's inclusion criteria for diabetes patients aged 18-70 with a stable insulin regimen.\"), Trial_Format(rank=3, nctId='NCT06982859', reason='The patient has Type 2 Diabetes for at least 6 months and is on insulin treatment, meeting essential criteria for the trial.'), Trial_Format(rank=4, nctId='NCT05654805', reason='The patient has Type 2 Diabetes but is excluded due to current insulin treatment, which is not allowed for this trial.'), Trial_Format(rank=5, nctId='NCT05856877', reason='While the patient has Type 2 Diabetes, this study primarily targets assessing central insulin sensitivity, not focused on insulin treatment.'), Trial_Format(rank=6, nctId='NCT01477957', reason='The patient does not qualify as the trial focuses on patients with obesity grade 2 or 3 and specific BMI requirements not mentioned in the patient description.'), Trial_Format(rank=7, nctId='NCT06945406', reason='The patient is not a good fit as they are on insulin, while this study also requires subjects to be treated with specific basal insulins, usually at a higher dose than the patient is likely on.')]\n"
     ]
    }
   ],
   "source": [
    "message_desc = \"55 year old man with nsclc and currently treated with Osimertinib\"\n",
    "message_desc = \"40 year old male with diabets typ 2 and insulin\"\n",
    "print(message_desc)\n",
    "\n",
    "result = await Runner.run(search_planner, message_desc)\n",
    "\n",
    "facts = result.final_output\n",
    "print(facts)\n",
    "\n",
    "trials = look_for_trials(query_codition=facts.condition, query_intervention=facts.intervention, age=facts.age, gender=facts.gender)\n",
    "\n",
    "count = trials.get(\"totalCount\")\n",
    "print(count)\n",
    "\n",
    "if count <= 10 and count > 0:\n",
    "\n",
    "    json_trial_payload = create_paylod(trials)\n",
    "\n",
    "    message = f\"Description of the patient: {message_desc};\\n\\nTrials: {json_trial_payload}\"\n",
    "\n",
    "    ranks = await Runner.run(ranker, message)\n",
    "\n",
    "    output = ranks.final_output\n",
    "    print(output)"
   ]
  },
  {
   "cell_type": "code",
   "execution_count": 50,
   "id": "b52a4245",
   "metadata": {},
   "outputs": [
    {
     "name": "stdout",
     "output_type": "stream",
     "text": [
      "Rank: 1\n",
      "\n",
      "nctId: NCT04837209\n",
      "Title: Radiation, Immunotherapy and PARP Inhibitor in Triple Negative Breast Cancer\n",
      "Status: RECRUITING\n",
      "Locations: Massachusetts General Hospital Cancer Center, University of Pennsylvania Abramson Cancer Center, Sibley Memorial Hospital, Duke University Medical Center, \n",
      "Reason: This trial is specifically focused on metastatic triple-negative breast cancer and includes patients who have progressed after immunotherapy, making it a strong fit for the patient. It also includes a PARP inhibitor (Niraparib) which the patient is seeking.\n",
      "\n",
      "\n",
      "Rank: 2\n",
      "\n",
      "nctId: NCT05933265\n",
      "Title: Study of LP-184 in Patients With Advanced Solid Tumors\n",
      "Status: RECRUITING\n",
      "Locations: Fox Chase Cancer Center, John Hopkins - The Sidney Kimmel Comprehensive Cancer Center, Northwest Oncology & Hematology, Indiana University Melvin and Bren Simon Cancer Center, Norton Healthcare, Inc., \n",
      "Reason: While this trial addresses advanced solid tumors including triple-negative breast cancer, it does not specifically mention the use of a PARP inhibitor or antibody-drug conjugates, which are the primary interests of the patient. However, the patient's eligibility based on prior therapies fits this study.\n",
      "\n",
      "\n"
     ]
    }
   ],
   "source": [
    "for t in output.ranks:\n",
    "    print(f\"Rank: {t.rank}\\n\")\n",
    "    format_output(trials, t.nctId, json_trial_payload)\n",
    "    print(f\"Reason: {t.reason}\\n\\n\")"
   ]
  },
  {
   "cell_type": "code",
   "execution_count": null,
   "id": "dd433299",
   "metadata": {},
   "outputs": [],
   "source": []
  }
 ],
 "metadata": {
  "kernelspec": {
   "display_name": ".venv",
   "language": "python",
   "name": "python3"
  },
  "language_info": {
   "codemirror_mode": {
    "name": "ipython",
    "version": 3
   },
   "file_extension": ".py",
   "mimetype": "text/x-python",
   "name": "python",
   "nbconvert_exporter": "python",
   "pygments_lexer": "ipython3",
   "version": "3.12.11"
  }
 },
 "nbformat": 4,
 "nbformat_minor": 5
}
